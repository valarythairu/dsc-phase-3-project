{
 "cells": [
  {
   "cell_type": "markdown",
   "metadata": {},
   "source": [
    "#### Problem Statement\n",
    "\n",
    "The Nairobi West Hospital is a facility where patients international and domestic receive treatment and management of cardiac conditions. While the facility has been able to provide such treatments, The Nairobi West Hospital still faces the challenge of providing valuable advice to their patients that enables to prevent cardiovascular disease altogether. The lack of comprehensive inisghts on this issue hinders patients from being adviced on the informed decisions they can make to improve their cardiovascular health and prevent cardiac conditions. \n",
    "\n",
    "Addressing these challenges requires a comprehensive analysis of the patients' history of their health records to identify the factors that have led to cardiac conditions before. The Facility aim to accomplish objectives such as:\n",
    "\n",
    "1) Identify the factors that lead to cardiovascular disease:\n",
    "   The Nairobi West Hospital aims to unearth the attributes of patients' health records that have affected their cardiovascular health.\n",
    "   By identifying these attributes this will allow patients to acquire very valuable information on factors that conclusively lead to cardiac conditions and be able to make informed decisions on the right action to take to improve their cardiovascular health."
   ]
  },
  {
   "cell_type": "markdown",
   "metadata": {},
   "source": [
    "#### Introduction\n",
    "\n",
    "Healthcare is one of the most important services offered if not the most significant to ever exist. Genuine service to humanity should\n",
    "be the motive to every healthcare providers' hearts. The Nairobi West Hospital has been a healthcare provider in Kenya since the 1980s. Providing affordable optimum healthcare that is unmatched has been their driving source since inception. \n",
    "\n",
    "The Nairobi West Hospital has a Cardiac Centre that uses cutting-edge clinical innovations to treat heart conditions.\n",
    "The Facility has recognized the importance of empowering patients with accurate and data-driven insights on their cardiovascular health(The health of the heart) hence has commisioned a project to investigate the factors that affect cardiovascular health.\n",
    "\n",
    "By identifying the factors that affect cardiovascular health, The Nairobi West Hospital will be able to offer valuable advice to their patients that they can make informed healthy decisions on their cardiovascular health and improving it."
   ]
  },
  {
   "cell_type": "markdown",
   "metadata": {},
   "source": []
  }
 ],
 "metadata": {
  "language_info": {
   "name": "python"
  },
  "orig_nbformat": 4
 },
 "nbformat": 4,
 "nbformat_minor": 2
}
